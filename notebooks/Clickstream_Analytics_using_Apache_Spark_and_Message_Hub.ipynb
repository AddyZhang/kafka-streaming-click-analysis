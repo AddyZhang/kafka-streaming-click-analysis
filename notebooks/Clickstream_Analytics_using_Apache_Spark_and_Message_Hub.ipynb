{
 "cells": [
  {
   "cell_type": "code",
   "execution_count": 1,
   "metadata": {},
   "outputs": [
    {
     "data": {
      "text/plain": [
       "Waiting for a Spark session to start..."
      ]
     },
     "metadata": {},
     "output_type": "display_data"
    },
    {
     "data": {
      "text/plain": [
       "2.1.0"
      ]
     },
     "execution_count": 1,
     "metadata": {},
     "output_type": "execute_result"
    }
   ],
   "source": [
    " // @hidden_cell\n // In a Project create a Connection to a Message Hub topic and then in a Notebook in the Project use 'Insert to Code' to get the connection info pasted into the code cell.\n // Just like this: \n",
    "var credentials_1 = scala.collection.mutable.HashMap[String, String](\n",
    "  \"instance_id\"->\"***\",\n",
    "  \"mqlight_lookup_url\"->\"***\",\n",
    "  \"api_key\"->\"***\",\n",
    "  \"kafka_admin_url\"->\"***\",\n",
    "  \"kafka_rest_url\"->\"***\",\n",
    "  \"kafka_brokers_sasl\"->\"ip:port\",\n",
    "  \"user\"->\"***\",\n",
    "  \"password\"->\"\"\"****\"\"\",\n",
    "  \"topic\"->\"test\"\n",
    ")\n",
    "spark.version"
   ]
  },
  {
   "cell_type": "code",
   "execution_count": 2,
   "metadata": {
    "collapsed": true
   },
   "outputs": [],
   "source": [
    "import scala.util.Try\n"
   ]
  },
  {
   "cell_type": "code",
   "execution_count": 3,
   "metadata": {
    "collapsed": true
   },
   "outputs": [],
   "source": [
    "case class Click(prev: String, curr: String, link: String, n: Long)\n"
   ]
  },
  {
   "cell_type": "code",
   "execution_count": 4,
   "metadata": {
    "collapsed": true
   },
   "outputs": [],
   "source": [
    "def parseVal(x: Array[Byte]): Option[Click] = {\n",
    "    val split: Array[String] = new Predef.String(x).split(\"\\\\t\")\n",
    "    if (split.length == 4) {\n",
    "      Try(Click(split(0), split(1), split(2), split(3).toLong)).toOption\n",
    "    } else\n",
    "      None\n",
    "  }"
   ]
  },
  {
   "cell_type": "code",
   "execution_count": 7,
   "metadata": {
    "collapsed": true
   },
   "outputs": [],
   "source": [
    "val user = credentials_1(\"user\")\n"
   ]
  },
  {
   "cell_type": "markdown",
   "metadata": {},
   "source": []
  },
  {
   "cell_type": "code",
   "execution_count": 8,
   "metadata": {},
   "outputs": [
    {
     "name": "stdout",
     "output_type": "stream",
     "text": [
      "***\n"
     ]
    }
   ],
   "source": [
    "println(user)"
   ]
  },
  {
   "cell_type": "code",
   "execution_count": 9,
   "metadata": {
    "collapsed": true
   },
   "outputs": [],
   "source": [
    "val pass = credentials_1(\"password\")\n"
   ]
  },
  {
   "cell_type": "code",
   "execution_count": 10,
   "metadata": {},
   "outputs": [
    {
     "name": "stdout",
     "output_type": "stream",
     "text": [
      "***\n"
     ]
    }
   ],
   "source": [
    "println(pass)"
   ]
  },
  {
   "cell_type": "code",
   "execution_count": 11,
   "metadata": {
    "collapsed": true
   },
   "outputs": [],
   "source": [
    " val saslConfig =\n",
    "    s\"\"\"org.apache.kafka.common.security.plain.PlainLoginModule required\n",
    "      |debug=true\n",
    "      |username=\"$user\"\n",
    "      |password=\"$pass\";\"\"\".stripMargin\n"
   ]
  },
  {
   "cell_type": "code",
   "execution_count": 12,
   "metadata": {},
   "outputs": [
    {
     "name": "stdout",
     "output_type": "stream",
     "text": [
      "org.apache.kafka.common.security.plain.PlainLoginModule required\n",
      "debug=true\n",
      "username=\"***\"\n",
      "password=\"***\";\n"
     ]
    }
   ],
   "source": [
    "println(saslConfig)"
   ]
  },
  {
   "cell_type": "code",
   "execution_count": 13,
   "metadata": {
    "collapsed": true
   },
   "outputs": [],
   "source": [
    "val records = spark.readStream.format(\"kafka\").option(\"kafka.sasl.jaas.config\", saslConfig).option(\"subscribe\", \"test\").option(\"kafka.sasl.mechanism\", \"PLAIN\").option(\"kafka.security.protocol\", \"SASL_SSL\").option(\"failOnDataLoss\", \"false\").option(\"kafka.bootstrap.servers\", credentials_1(\"kafka_brokers_sasl\")).load()\n"
   ]
  },
  {
   "cell_type": "code",
   "execution_count": 14,
   "metadata": {},
   "outputs": [],
   "source": [
    "val messages = records.select(\"value\").as[Array[Byte]].flatMap(x => parseVal(x)).groupBy(\"curr\").agg(Map(\"n\" -> \"sum\")).sort($\"sum(n)\".desc)"
   ]
  },
  {
   "cell_type": "code",
   "execution_count": 15,
   "metadata": {},
   "outputs": [
    {
     "name": "stdout",
     "output_type": "stream",
     "text": [
      "-------------------------------------------\n",
      "Batch: 0\n",
      "-------------------------------------------\n",
      "+----+------+\n",
      "|curr|sum(n)|\n",
      "+----+------+\n",
      "+----+------+\n",
      "\n",
      "-------------------------------------------\n",
      "Batch: 7\n",
      "-------------------------------------------\n",
      "+---------+------+\n",
      "|curr     |sum(n)|\n",
      "+---------+------+\n",
      "|Aristotle|108441|\n",
      "+---------+------+\n",
      "\n",
      "-------------------------------------------\n",
      "Batch: 8\n",
      "-------------------------------------------\n",
      "+--------------------------------------------+------+\n",
      "|curr                                        |sum(n)|\n",
      "+--------------------------------------------+------+\n",
      "|Aristotle                                   |108441|\n",
      "|Monday_Night_Massacre                       |49366 |\n",
      "|Fin_(Syd_album)                             |762   |\n",
      "|#################                           |313   |\n",
      "|Binghamton_Devils                           |280   |\n",
      "|Fueler                                      |254   |\n",
      "|Alpine_skiing_at_the_2017_Winter_Universiade|193   |\n",
      "|Mudyug_concentration_camp                   |166   |\n",
      "|Hannah_Montana_(song)                       |165   |\n",
      "|Flight_of_Fancy                             |152   |\n",
      "|Ouedraogo                                   |141   |\n",
      "|#####################################       |120   |\n",
      "|Pierre_Thomas                               |116   |\n",
      "|Mohammad_Aghazadeh_Khorasani                |112   |\n",
      "|Nic_Radford                                 |94    |\n",
      "|Lion_(Taiwanese_band)                       |92    |\n",
      "|Sid_Roberson                                |81    |\n",
      "|Institute_of_Political_Studies_in_Belgrade  |65    |\n",
      "|David_Branson_Smith                         |61    |\n",
      "|Legacy_(2017_film)                          |50    |\n",
      "+--------------------------------------------+------+\n",
      "only showing top 20 rows\n",
      "\n"
     ]
    }
   ],
   "source": [
    "val query = messages.writeStream.outputMode(\"complete\").option(\"truncate\", \"false\").format(\"console\").start()\n"
   ]
  },
  {
   "cell_type": "code",
   "execution_count": null,
   "metadata": {
    "collapsed": true
   },
   "outputs": [],
   "source": []
  }
 ],
 "metadata": {
  "kernelspec": {
   "display_name": "Scala 2.11 with Spark 2.1",
   "language": "scala",
   "name": "scala-spark21"
  },
  "language_info": {
   "codemirror_mode": "text/x-scala",
   "file_extension": ".scala",
   "mimetype": "text/x-scala",
   "name": "scala",
   "pygments_lexer": "scala",
   "version": "2.11.8"
  }
 },
 "nbformat": 4,
 "nbformat_minor": 1
}
